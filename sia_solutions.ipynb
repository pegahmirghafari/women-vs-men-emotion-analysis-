{
  "nbformat": 4,
  "nbformat_minor": 0,
  "metadata": {
    "kernelspec": {
      "display_name": "Python 3",
      "language": "python",
      "name": "python3"
    },
    "language_info": {
      "codemirror_mode": {
        "name": "ipython",
        "version": 3
      },
      "file_extension": ".py",
      "mimetype": "text/x-python",
      "name": "python",
      "nbconvert_exporter": "python",
      "pygments_lexer": "ipython3",
      "version": "3.6.4"
    },
    "colab": {
      "name": "sia-solutions.ipynb",
      "provenance": []
    }
  },
  "cells": [
    {
      "cell_type": "markdown",
      "metadata": {
        "id": "3Ftvk-e-sSDT"
      },
      "source": [
        "# Sentiment Analysis with VADER and NLP Modeling"
      ]
    },
    {
      "cell_type": "code",
      "metadata": {
        "id": "IVbIC0KGsSDc"
      },
      "source": [
        "import matplotlib.pyplot as plt\n",
        "import pandas as pd\n",
        "import seaborn as sns\n",
        "\n",
        "from nltk.sentiment.vader import SentimentIntensityAnalyzer\n",
        "from sklearn.feature_extraction.text import CountVectorizer, TfidfVectorizer\n",
        "from sklearn.linear_model import LogisticRegressionCV\n",
        "from sklearn.model_selection import GridSearchCV, train_test_split\n",
        "from sklearn.pipeline import Pipeline\n",
        "\n",
        "# easier to see full text with a bigger maxwidth:\n",
        "pd.options.display.max_colwidth = 200"
      ],
      "execution_count": 14,
      "outputs": []
    },
    {
      "cell_type": "markdown",
      "metadata": {
        "id": "rx_JsiocsSDj"
      },
      "source": [
        "## Load in the text data:\n",
        "\n",
        "- Remove retweets\n",
        "- Keep only the `handle` and `text` columns\n",
        "- Reset the index"
      ]
    },
    {
      "cell_type": "code",
      "metadata": {
        "colab": {
          "base_uri": "https://localhost:8080/"
        },
        "id": "XW9hh7A6tnG7",
        "outputId": "8426ca2e-01bd-495f-99fa-fb9f4b60de57"
      },
      "source": [
        "from google.colab import drive\n",
        "drive.mount(\"/content1\")"
      ],
      "execution_count": 3,
      "outputs": [
        {
          "output_type": "stream",
          "name": "stdout",
          "text": [
            "Mounted at /content1\n"
          ]
        }
      ]
    },
    {
      "cell_type": "code",
      "metadata": {
        "id": "RgD-nEq7sSDl"
      },
      "source": [
        "tweets = pd.read_csv('/data/trump_clinton_tweets.csv')\n",
        "\n",
        "# remove retweets\n",
        "tweets = tweets[tweets['is_retweet'] == False]\n",
        "\n",
        "# keep only handle and text\n",
        "tweets = tweets[['handle', 'text']]\n",
        "\n",
        "# reset index\n",
        "tweets.reset_index(drop=True, inplace=True)"
      ],
      "execution_count": 4,
      "outputs": []
    },
    {
      "cell_type": "markdown",
      "metadata": {
        "id": "QHsYGwJgsSDp"
      },
      "source": [
        "## Instantiate `SentimentIntensityAnalyzer` and test it on the first tweet:\n",
        "\n",
        "- We'll use the `.polarity_scores()` method\n",
        "- `.polarity_scores()` works on one string at a time"
      ]
    },
    {
      "cell_type": "code",
      "metadata": {
        "colab": {
          "base_uri": "https://localhost:8080/"
        },
        "id": "WrXN2R8BsSDq",
        "outputId": "d0bdcbfe-0131-4bc1-aefd-d4cdb1d6e633"
      },
      "source": [
        "sia = SentimentIntensityAnalyzer()\n",
        "\n",
        "print(tweets['text'][0])\n",
        "sia.polarity_scores(tweets['text'][0])"
      ],
      "execution_count": 15,
      "outputs": [
        {
          "output_type": "stream",
          "name": "stdout",
          "text": [
            "The question in this election: Who can put the plans into action that will make your life better? https://t.co/XreEY9OicG\n"
          ]
        },
        {
          "output_type": "execute_result",
          "data": {
            "text/plain": [
              "{'compound': 0.4404, 'neg': 0.0, 'neu': 0.861, 'pos': 0.139}"
            ]
          },
          "metadata": {},
          "execution_count": 15
        }
      ]
    },
    {
      "cell_type": "markdown",
      "metadata": {
        "id": "zy_7i-SBsSDs"
      },
      "source": [
        "## Create a dataframe called `scores` that stores the sentiment scores for each tweet in `tweets`:"
      ]
    },
    {
      "cell_type": "code",
      "metadata": {
        "colab": {
          "base_uri": "https://localhost:8080/",
          "height": 204
        },
        "id": "UCL8H5VRsSDv",
        "outputId": "98954546-9fc7-4bb1-ad3d-acd9ca2af793"
      },
      "source": [
        "dicts = []\n",
        "\n",
        "for tweet in tweets['text']:\n",
        "    scores = sia.polarity_scores(tweet)\n",
        "    dicts.append(scores)\n",
        "\n",
        "scores = pd.DataFrame(dicts)\n",
        "scores.head()"
      ],
      "execution_count": 16,
      "outputs": [
        {
          "output_type": "execute_result",
          "data": {
            "text/html": [
              "<div>\n",
              "<style scoped>\n",
              "    .dataframe tbody tr th:only-of-type {\n",
              "        vertical-align: middle;\n",
              "    }\n",
              "\n",
              "    .dataframe tbody tr th {\n",
              "        vertical-align: top;\n",
              "    }\n",
              "\n",
              "    .dataframe thead th {\n",
              "        text-align: right;\n",
              "    }\n",
              "</style>\n",
              "<table border=\"1\" class=\"dataframe\">\n",
              "  <thead>\n",
              "    <tr style=\"text-align: right;\">\n",
              "      <th></th>\n",
              "      <th>neg</th>\n",
              "      <th>neu</th>\n",
              "      <th>pos</th>\n",
              "      <th>compound</th>\n",
              "    </tr>\n",
              "  </thead>\n",
              "  <tbody>\n",
              "    <tr>\n",
              "      <th>0</th>\n",
              "      <td>0.000</td>\n",
              "      <td>0.861</td>\n",
              "      <td>0.139</td>\n",
              "      <td>0.4404</td>\n",
              "    </tr>\n",
              "    <tr>\n",
              "      <th>1</th>\n",
              "      <td>0.101</td>\n",
              "      <td>0.771</td>\n",
              "      <td>0.128</td>\n",
              "      <td>0.1376</td>\n",
              "    </tr>\n",
              "    <tr>\n",
              "      <th>2</th>\n",
              "      <td>0.278</td>\n",
              "      <td>0.722</td>\n",
              "      <td>0.000</td>\n",
              "      <td>-0.6597</td>\n",
              "    </tr>\n",
              "    <tr>\n",
              "      <th>3</th>\n",
              "      <td>0.000</td>\n",
              "      <td>0.858</td>\n",
              "      <td>0.142</td>\n",
              "      <td>0.3595</td>\n",
              "    </tr>\n",
              "    <tr>\n",
              "      <th>4</th>\n",
              "      <td>0.000</td>\n",
              "      <td>0.796</td>\n",
              "      <td>0.204</td>\n",
              "      <td>0.4767</td>\n",
              "    </tr>\n",
              "  </tbody>\n",
              "</table>\n",
              "</div>"
            ],
            "text/plain": [
              "     neg    neu    pos  compound\n",
              "0  0.000  0.861  0.139    0.4404\n",
              "1  0.101  0.771  0.128    0.1376\n",
              "2  0.278  0.722  0.000   -0.6597\n",
              "3  0.000  0.858  0.142    0.3595\n",
              "4  0.000  0.796  0.204    0.4767"
            ]
          },
          "metadata": {},
          "execution_count": 16
        }
      ]
    },
    {
      "cell_type": "markdown",
      "metadata": {
        "id": "9D15L2OOsSDx"
      },
      "source": [
        "## Concatenate `tweets` and `scores` and store:"
      ]
    },
    {
      "cell_type": "code",
      "metadata": {
        "id": "DQPaFK2KsSDy"
      },
      "source": [
        "df = pd.concat([tweets, scores], axis=1)"
      ],
      "execution_count": 17,
      "outputs": []
    },
    {
      "cell_type": "markdown",
      "metadata": {
        "id": "CyunVTkRsSDy"
      },
      "source": [
        "## Investigating polarities:\n",
        "\n",
        "- You can explore the most strongly scored tweets with `.sort_values()`.\n",
        "- Compare `compound` to `neg` and `pos`."
      ]
    },
    {
      "cell_type": "code",
      "metadata": {
        "colab": {
          "base_uri": "https://localhost:8080/",
          "height": 771
        },
        "id": "3SlT9-vmsSDz",
        "outputId": "2c11a0bd-abf0-448f-8f6a-df83a74c44cd"
      },
      "source": [
        "df.sort_values(by='neg', ascending=False).head(20)"
      ],
      "execution_count": 18,
      "outputs": [
        {
          "output_type": "execute_result",
          "data": {
            "text/html": [
              "<div>\n",
              "<style scoped>\n",
              "    .dataframe tbody tr th:only-of-type {\n",
              "        vertical-align: middle;\n",
              "    }\n",
              "\n",
              "    .dataframe tbody tr th {\n",
              "        vertical-align: top;\n",
              "    }\n",
              "\n",
              "    .dataframe thead th {\n",
              "        text-align: right;\n",
              "    }\n",
              "</style>\n",
              "<table border=\"1\" class=\"dataframe\">\n",
              "  <thead>\n",
              "    <tr style=\"text-align: right;\">\n",
              "      <th></th>\n",
              "      <th>handle</th>\n",
              "      <th>text</th>\n",
              "      <th>neg</th>\n",
              "      <th>neu</th>\n",
              "      <th>pos</th>\n",
              "      <th>compound</th>\n",
              "    </tr>\n",
              "  </thead>\n",
              "  <tbody>\n",
              "    <tr>\n",
              "      <th>3355</th>\n",
              "      <td>HillaryClinton</td>\n",
              "      <td>Disgusting. https://t.co/A8Hm24ZT1H</td>\n",
              "      <td>0.773</td>\n",
              "      <td>0.227</td>\n",
              "      <td>0.000</td>\n",
              "      <td>-0.5267</td>\n",
              "    </tr>\n",
              "    <tr>\n",
              "      <th>1528</th>\n",
              "      <td>realDonaldTrump</td>\n",
              "      <td>Even Bill is tired of the lies, SAD! https://t.co/LPk1OkwH9P</td>\n",
              "      <td>0.621</td>\n",
              "      <td>0.379</td>\n",
              "      <td>0.000</td>\n",
              "      <td>-0.8697</td>\n",
              "    </tr>\n",
              "    <tr>\n",
              "      <th>3988</th>\n",
              "      <td>HillaryClinton</td>\n",
              "      <td>Hate isn't an American value. https://t.co/lZJ8T0Xu3M</td>\n",
              "      <td>0.589</td>\n",
              "      <td>0.411</td>\n",
              "      <td>0.000</td>\n",
              "      <td>-0.6943</td>\n",
              "    </tr>\n",
              "    <tr>\n",
              "      <th>2923</th>\n",
              "      <td>HillaryClinton</td>\n",
              "      <td>Your @GOP presidential nominee responding to a terrorist attack with lies and conspiracy theories.\\nhttps://t.co/TZJmXefmx4</td>\n",
              "      <td>0.583</td>\n",
              "      <td>0.417</td>\n",
              "      <td>0.000</td>\n",
              "      <td>-0.9325</td>\n",
              "    </tr>\n",
              "    <tr>\n",
              "      <th>2877</th>\n",
              "      <td>HillaryClinton</td>\n",
              "      <td>Gun violence and hate aren't isolated—homophobia in Orlando, racism in Charleston. We need to fight them together. https://t.co/HcBJzknBz7</td>\n",
              "      <td>0.565</td>\n",
              "      <td>0.435</td>\n",
              "      <td>0.000</td>\n",
              "      <td>-0.9509</td>\n",
              "    </tr>\n",
              "    <tr>\n",
              "      <th>4541</th>\n",
              "      <td>realDonaldTrump</td>\n",
              "      <td>\"@Ma1973sk: Actually, no @FoxNews, @megynkelly has a sick obsession with Trump. Every day, every show, trashing, negative, hate.</td>\n",
              "      <td>0.560</td>\n",
              "      <td>0.440</td>\n",
              "      <td>0.000</td>\n",
              "      <td>-0.9360</td>\n",
              "    </tr>\n",
              "    <tr>\n",
              "      <th>2583</th>\n",
              "      <td>realDonaldTrump</td>\n",
              "      <td>Yet another terrorist attack today in Israel -- a father, shot at by a Palestinian terrorist, was killed while:\\nhttps://t.co/Cv1HzKVbiT</td>\n",
              "      <td>0.548</td>\n",
              "      <td>0.452</td>\n",
              "      <td>0.000</td>\n",
              "      <td>-0.9584</td>\n",
              "    </tr>\n",
              "    <tr>\n",
              "      <th>1321</th>\n",
              "      <td>HillaryClinton</td>\n",
              "      <td>Donald Trump's no good, horrible, very bad week. https://t.co/MtgwywgJ3q</td>\n",
              "      <td>0.546</td>\n",
              "      <td>0.287</td>\n",
              "      <td>0.167</td>\n",
              "      <td>-0.7645</td>\n",
              "    </tr>\n",
              "    <tr>\n",
              "      <th>2659</th>\n",
              "      <td>HillaryClinton</td>\n",
              "      <td>\"Hillary believes that racism, hatred, injustice, and bigotry have no place in our country.\" —@ElizabethforMA\\nhttps://t.co/OK5UueAaZn</td>\n",
              "      <td>0.542</td>\n",
              "      <td>0.458</td>\n",
              "      <td>0.000</td>\n",
              "      <td>-0.9349</td>\n",
              "    </tr>\n",
              "    <tr>\n",
              "      <th>3009</th>\n",
              "      <td>realDonaldTrump</td>\n",
              "      <td>Really bad shooting in Orlando. Police investigating possible terrorism. Many people dead and wounded.</td>\n",
              "      <td>0.536</td>\n",
              "      <td>0.464</td>\n",
              "      <td>0.000</td>\n",
              "      <td>-0.9286</td>\n",
              "    </tr>\n",
              "    <tr>\n",
              "      <th>3939</th>\n",
              "      <td>HillaryClinton</td>\n",
              "      <td>\"Systemic racism, inter-generational poverty, gun violence—these aren’t somebody else’s problems. These are our problems.\" —Hillary</td>\n",
              "      <td>0.532</td>\n",
              "      <td>0.468</td>\n",
              "      <td>0.000</td>\n",
              "      <td>-0.9100</td>\n",
              "    </tr>\n",
              "    <tr>\n",
              "      <th>97</th>\n",
              "      <td>realDonaldTrump</td>\n",
              "      <td>HILLARY'S BAD TAX HABIT! https://t.co/x3FBy8Hdq2</td>\n",
              "      <td>0.531</td>\n",
              "      <td>0.469</td>\n",
              "      <td>0.000</td>\n",
              "      <td>-0.6731</td>\n",
              "    </tr>\n",
              "    <tr>\n",
              "      <th>2935</th>\n",
              "      <td>HillaryClinton</td>\n",
              "      <td>.@realdonaldtrump: Attacking Muslim Americans is wrong, and it makes it harder for us to defeat terrorism. https://t.co/6aqz2PLKL2</td>\n",
              "      <td>0.513</td>\n",
              "      <td>0.487</td>\n",
              "      <td>0.000</td>\n",
              "      <td>-0.9287</td>\n",
              "    </tr>\n",
              "    <tr>\n",
              "      <th>2850</th>\n",
              "      <td>HillaryClinton</td>\n",
              "      <td>We owe families of gun violence victims more than prayers.\\n\\nTell your senators to act on gun violence prevention: https://t.co/v0defjTptE</td>\n",
              "      <td>0.505</td>\n",
              "      <td>0.495</td>\n",
              "      <td>0.000</td>\n",
              "      <td>-0.9360</td>\n",
              "    </tr>\n",
              "    <tr>\n",
              "      <th>2985</th>\n",
              "      <td>HillaryClinton</td>\n",
              "      <td>We need to stop terrorists from getting the weapons they need to carry out attacks. https://t.co/Q6r7VVj9ds</td>\n",
              "      <td>0.502</td>\n",
              "      <td>0.498</td>\n",
              "      <td>0.000</td>\n",
              "      <td>-0.9022</td>\n",
              "    </tr>\n",
              "    <tr>\n",
              "      <th>1557</th>\n",
              "      <td>realDonaldTrump</td>\n",
              "      <td>Hillary's wars in the Middle East have unleashed destruction, terrorism and ISIS across the world.</td>\n",
              "      <td>0.498</td>\n",
              "      <td>0.502</td>\n",
              "      <td>0.000</td>\n",
              "      <td>-0.9169</td>\n",
              "    </tr>\n",
              "    <tr>\n",
              "      <th>2269</th>\n",
              "      <td>realDonaldTrump</td>\n",
              "      <td>Another horrific attack, this time in Nice, France. Many dead and injured. When will we learn? It is only getting worse.</td>\n",
              "      <td>0.497</td>\n",
              "      <td>0.424</td>\n",
              "      <td>0.079</td>\n",
              "      <td>-0.9413</td>\n",
              "    </tr>\n",
              "    <tr>\n",
              "      <th>3515</th>\n",
              "      <td>HillaryClinton</td>\n",
              "      <td>You're wrong, @realDonaldTrump. We can uphold Second Amendment rights while preventing senseless gun violence. https://t.co/G7g1AdZWCA</td>\n",
              "      <td>0.493</td>\n",
              "      <td>0.507</td>\n",
              "      <td>0.000</td>\n",
              "      <td>-0.8658</td>\n",
              "    </tr>\n",
              "    <tr>\n",
              "      <th>2683</th>\n",
              "      <td>HillaryClinton</td>\n",
              "      <td>We can’t stop fighting until all LGBT Americans can live their lives free of prejudice, violence, and hate. https://t.co/1OmrTZFG9n</td>\n",
              "      <td>0.492</td>\n",
              "      <td>0.405</td>\n",
              "      <td>0.103</td>\n",
              "      <td>-0.9100</td>\n",
              "    </tr>\n",
              "    <tr>\n",
              "      <th>4841</th>\n",
              "      <td>realDonaldTrump</td>\n",
              "      <td>Little Marco Rubio gave amnesty to criminal aliens guilty of \"sex offenses.\" DISGRACE! https://t.co/mZwpynzsLb</td>\n",
              "      <td>0.487</td>\n",
              "      <td>0.513</td>\n",
              "      <td>0.000</td>\n",
              "      <td>-0.8866</td>\n",
              "    </tr>\n",
              "  </tbody>\n",
              "</table>\n",
              "</div>"
            ],
            "text/plain": [
              "               handle  ... compound\n",
              "3355   HillaryClinton  ...  -0.5267\n",
              "1528  realDonaldTrump  ...  -0.8697\n",
              "3988   HillaryClinton  ...  -0.6943\n",
              "2923   HillaryClinton  ...  -0.9325\n",
              "2877   HillaryClinton  ...  -0.9509\n",
              "4541  realDonaldTrump  ...  -0.9360\n",
              "2583  realDonaldTrump  ...  -0.9584\n",
              "1321   HillaryClinton  ...  -0.7645\n",
              "2659   HillaryClinton  ...  -0.9349\n",
              "3009  realDonaldTrump  ...  -0.9286\n",
              "3939   HillaryClinton  ...  -0.9100\n",
              "97    realDonaldTrump  ...  -0.6731\n",
              "2935   HillaryClinton  ...  -0.9287\n",
              "2850   HillaryClinton  ...  -0.9360\n",
              "2985   HillaryClinton  ...  -0.9022\n",
              "1557  realDonaldTrump  ...  -0.9169\n",
              "2269  realDonaldTrump  ...  -0.9413\n",
              "3515   HillaryClinton  ...  -0.8658\n",
              "2683   HillaryClinton  ...  -0.9100\n",
              "4841  realDonaldTrump  ...  -0.8866\n",
              "\n",
              "[20 rows x 6 columns]"
            ]
          },
          "metadata": {},
          "execution_count": 18
        }
      ]
    },
    {
      "cell_type": "markdown",
      "metadata": {
        "id": "1ez4KJRTsSD0"
      },
      "source": [
        "## Visualizing sentiments\n",
        "\n",
        "### Plot the average positivity and negativity for each politician:\n",
        "\n",
        "- You can do this with a `.groupby()` and `.plot()` in one line."
      ]
    },
    {
      "cell_type": "code",
      "metadata": {
        "colab": {
          "base_uri": "https://localhost:8080/",
          "height": 281
        },
        "id": "RrDdiqhzsSD0",
        "outputId": "11730e5f-e33d-4b04-edef-043cd63d393f"
      },
      "source": [
        "df.groupby('handle').mean()[['pos', 'neg']].plot(kind='barh')\n",
        "plt.title('Average Positive vs. Negative Score by Candidate');"
      ],
      "execution_count": 19,
      "outputs": [
        {
          "output_type": "display_data",
          "data": {
            "image/png": "[encoded data removed]",
            "text/plain": [
              "<Figure size 432x288 with 1 Axes>"
            ]
          },
          "metadata": {
            "needs_background": "light"
          }
        }
      ]
    },
    {
      "cell_type": "markdown",
      "metadata": {
        "id": "LELk36kgsSD3"
      },
      "source": [
        "### Plot a boxplot of compound scores for each politician:\n",
        "\n",
        "- You can do this with seaborn's `.catplot()` if you so choose."
      ]
    },
    {
      "cell_type": "code",
      "metadata": {
        "colab": {
          "base_uri": "https://localhost:8080/",
          "height": 385
        },
        "id": "FBP-txw5sSD3",
        "outputId": "4468fd42-e0cf-4838-8503-3b95a784ba30"
      },
      "source": [
        "sns.catplot(x='handle', y='compound', kind='box', data=df)\n",
        "plt.title('Boxplot of Compound Scores');"
      ],
      "execution_count": 20,
      "outputs": [
        {
          "output_type": "display_data",
          "data": {
            "image/png": "[encoded data removed]",
            "text/plain": [
              "<Figure size 360x360 with 1 Axes>"
            ]
          },
          "metadata": {
            "needs_background": "light"
          }
        }
      ]
    },
    {
      "cell_type": "markdown",
      "metadata": {
        "id": "zPHogk54sSD4"
      },
      "source": [
        "### Plot a boxplot of positive scores for each politician:"
      ]
    },
    {
      "cell_type": "code",
      "metadata": {
        "colab": {
          "base_uri": "https://localhost:8080/",
          "height": 385
        },
        "id": "QHWX-mn5sSD4",
        "outputId": "9f63486f-23ac-4cda-89ed-61a080be395c"
      },
      "source": [
        "sns.catplot(x='handle', y='pos', kind='box', data=df)\n",
        "plt.title('Boxplot of Positive Scores');"
      ],
      "execution_count": 21,
      "outputs": [
        {
          "output_type": "display_data",
          "data": {
            "image/png": "[encoded data removed]",
            "text/plain": [
              "<Figure size 360x360 with 1 Axes>"
            ]
          },
          "metadata": {
            "needs_background": "light"
          }
        }
      ]
    },
    {
      "cell_type": "markdown",
      "metadata": {
        "id": "52KGOZfzsSD5"
      },
      "source": [
        "### Plot a boxplot of neutral scores for each politician:"
      ]
    },
    {
      "cell_type": "code",
      "metadata": {
        "colab": {
          "base_uri": "https://localhost:8080/",
          "height": 385
        },
        "id": "kV5Jk_81sSD6",
        "outputId": "567ad293-1b47-4bea-da28-1a7af593f94a"
      },
      "source": [
        "sns.catplot(x='handle', y='neu', kind='box', data=df)\n",
        "plt.title('Boxplot of Neutral Scores');"
      ],
      "execution_count": 22,
      "outputs": [
        {
          "output_type": "display_data",
          "data": {
            "image/png": "[encoded data removed]",
            "text/plain": [
              "<Figure size 360x360 with 1 Axes>"
            ]
          },
          "metadata": {
            "needs_background": "light"
          }
        }
      ]
    },
    {
      "cell_type": "markdown",
      "metadata": {
        "id": "a_ThebPIsSD6"
      },
      "source": [
        "# Modeling"
      ]
    },
    {
      "cell_type": "code",
      "metadata": {
        "colab": {
          "base_uri": "https://localhost:8080/",
          "height": 142
        },
        "id": "SVrV87X_sSD7",
        "outputId": "9e3941ee-6e01-457d-8855-98057621fa88"
      },
      "source": [
        "df.head(3)"
      ],
      "execution_count": 23,
      "outputs": [
        {
          "output_type": "execute_result",
          "data": {
            "text/html": [
              "<div>\n",
              "<style scoped>\n",
              "    .dataframe tbody tr th:only-of-type {\n",
              "        vertical-align: middle;\n",
              "    }\n",
              "\n",
              "    .dataframe tbody tr th {\n",
              "        vertical-align: top;\n",
              "    }\n",
              "\n",
              "    .dataframe thead th {\n",
              "        text-align: right;\n",
              "    }\n",
              "</style>\n",
              "<table border=\"1\" class=\"dataframe\">\n",
              "  <thead>\n",
              "    <tr style=\"text-align: right;\">\n",
              "      <th></th>\n",
              "      <th>handle</th>\n",
              "      <th>text</th>\n",
              "      <th>neg</th>\n",
              "      <th>neu</th>\n",
              "      <th>pos</th>\n",
              "      <th>compound</th>\n",
              "    </tr>\n",
              "  </thead>\n",
              "  <tbody>\n",
              "    <tr>\n",
              "      <th>0</th>\n",
              "      <td>HillaryClinton</td>\n",
              "      <td>The question in this election: Who can put the plans into action that will make your life better? https://t.co/XreEY9OicG</td>\n",
              "      <td>0.000</td>\n",
              "      <td>0.861</td>\n",
              "      <td>0.139</td>\n",
              "      <td>0.4404</td>\n",
              "    </tr>\n",
              "    <tr>\n",
              "      <th>1</th>\n",
              "      <td>HillaryClinton</td>\n",
              "      <td>If we stand together, there's nothing we can't do. \\n\\nMake sure you're ready to vote: https://t.co/tTgeqxNqYm https://t.co/Q3Ymbb7UNy</td>\n",
              "      <td>0.101</td>\n",
              "      <td>0.771</td>\n",
              "      <td>0.128</td>\n",
              "      <td>0.1376</td>\n",
              "    </tr>\n",
              "    <tr>\n",
              "      <th>2</th>\n",
              "      <td>HillaryClinton</td>\n",
              "      <td>Both candidates were asked about how they'd confront racial injustice. Only one had a real answer. https://t.co/sjnEokckis</td>\n",
              "      <td>0.278</td>\n",
              "      <td>0.722</td>\n",
              "      <td>0.000</td>\n",
              "      <td>-0.6597</td>\n",
              "    </tr>\n",
              "  </tbody>\n",
              "</table>\n",
              "</div>"
            ],
            "text/plain": [
              "           handle  ... compound\n",
              "0  HillaryClinton  ...   0.4404\n",
              "1  HillaryClinton  ...   0.1376\n",
              "2  HillaryClinton  ...  -0.6597\n",
              "\n",
              "[3 rows x 6 columns]"
            ]
          },
          "metadata": {},
          "execution_count": 23
        }
      ]
    },
    {
      "cell_type": "markdown",
      "metadata": {
        "id": "3NpTFBPUsSD7"
      },
      "source": [
        "### Set up X and y, then train-test split"
      ]
    },
    {
      "cell_type": "code",
      "metadata": {
        "id": "ikuilIw9sSD8"
      },
      "source": [
        "df['is_trump'] = df['handle'].map(lambda x: 1 if x == 'realDonaldTrump' else 0)"
      ],
      "execution_count": 24,
      "outputs": []
    },
    {
      "cell_type": "code",
      "metadata": {
        "id": "wN0AJtiisSD8"
      },
      "source": [
        "X = df['text']\n",
        "y = df['is_trump']\n",
        "\n",
        "X_train, X_test, y_train, y_test = train_test_split(X, y, random_state = 42, stratify=y)"
      ],
      "execution_count": 25,
      "outputs": []
    },
    {
      "cell_type": "markdown",
      "metadata": {
        "id": "m0UYb45CsSD9"
      },
      "source": [
        "### Check baseline accuracy rate"
      ]
    },
    {
      "cell_type": "code",
      "metadata": {
        "colab": {
          "base_uri": "https://localhost:8080/"
        },
        "id": "iPHyRi--sSD-",
        "outputId": "2c0291ae-496a-44c2-c9a7-a1f0c6653e9f"
      },
      "source": [
        "y_train.mean(), y_test.mean()"
      ],
      "execution_count": 26,
      "outputs": [
        {
          "output_type": "execute_result",
          "data": {
            "text/plain": [
              "(0.5404334653926823, 0.5408805031446541)"
            ]
          },
          "metadata": {},
          "execution_count": 26
        }
      ]
    },
    {
      "cell_type": "markdown",
      "metadata": {
        "id": "ab1I3r2esSD_"
      },
      "source": [
        "### Instantiate and fit a count vectorizer"
      ]
    },
    {
      "cell_type": "code",
      "metadata": {
        "colab": {
          "base_uri": "https://localhost:8080/"
        },
        "id": "mf8zxsnCsSD_",
        "outputId": "3c746777-dc66-41b3-c6ca-dd791c984033"
      },
      "source": [
        "cv = CountVectorizer(min_df=3, max_features=2000)\n",
        "\n",
        "cv.fit(X_train, y_train)"
      ],
      "execution_count": 27,
      "outputs": [
        {
          "output_type": "execute_result",
          "data": {
            "text/plain": [
              "CountVectorizer(analyzer='word', binary=False, decode_error='strict',\n",
              "                dtype=<class 'numpy.int64'>, encoding='utf-8', input='content',\n",
              "                lowercase=True, max_df=1.0, max_features=2000, min_df=3,\n",
              "                ngram_range=(1, 1), preprocessor=None, stop_words=None,\n",
              "                strip_accents=None, token_pattern='(?u)\\\\b\\\\w\\\\w+\\\\b',\n",
              "                tokenizer=None, vocabulary=None)"
            ]
          },
          "metadata": {},
          "execution_count": 27
        }
      ]
    },
    {
      "cell_type": "markdown",
      "metadata": {
        "id": "FsnGIrc_sSEA"
      },
      "source": [
        "### Transform X_test and X_train"
      ]
    },
    {
      "cell_type": "code",
      "metadata": {
        "id": "lTX7DZPJsSEA"
      },
      "source": [
        "X_train_cv = cv.transform(X_train)\n",
        "X_test_cv = cv.transform(X_test)"
      ],
      "execution_count": 28,
      "outputs": []
    },
    {
      "cell_type": "markdown",
      "metadata": {
        "id": "11xFugjssSEA"
      },
      "source": [
        "### Instantiate and fit a logistic regression\n",
        "- You may want to use `%%capture` or otherwise suppress warnings"
      ]
    },
    {
      "cell_type": "code",
      "metadata": {
        "id": "At3P7uL2sSEB"
      },
      "source": [
        "%%capture\n",
        "# h/t \n",
        "lr = LogisticRegressionCV()\n",
        "lr.fit(X_train_cv, y_train)"
      ],
      "execution_count": 29,
      "outputs": []
    },
    {
      "cell_type": "markdown",
      "metadata": {
        "id": "RdT_azVRsSEB"
      },
      "source": [
        "### Score on train and test"
      ]
    },
    {
      "cell_type": "code",
      "metadata": {
        "colab": {
          "base_uri": "https://localhost:8080/"
        },
        "id": "Ebqdfll8sSEB",
        "outputId": "bece5995-272b-4cf4-d807-a949ffbcc8bf"
      },
      "source": [
        "lr.score(X_train_cv, y_train), lr.score(X_test_cv, y_test)"
      ],
      "execution_count": 30,
      "outputs": [
        {
          "output_type": "execute_result",
          "data": {
            "text/plain": [
              "(0.9909112095082732, 0.9196366177498253)"
            ]
          },
          "metadata": {},
          "execution_count": 30
        }
      ]
    },
    {
      "cell_type": "markdown",
      "metadata": {
        "id": "ltmDyr4osSEB"
      },
      "source": [
        "### Investigate coefficients"
      ]
    },
    {
      "cell_type": "code",
      "metadata": {
        "id": "AOAz3jEqsSEC"
      },
      "source": [
        "coef_df = pd.DataFrame({\n",
        "    'coefs': cv.get_feature_names(),\n",
        "    'vals': lr.coef_[0]})"
      ],
      "execution_count": 31,
      "outputs": []
    },
    {
      "cell_type": "markdown",
      "metadata": {
        "id": "JqhvoGBSsSEC"
      },
      "source": [
        "### What words are predictive of authorship?"
      ]
    },
    {
      "cell_type": "code",
      "metadata": {
        "colab": {
          "base_uri": "https://localhost:8080/",
          "height": 669
        },
        "id": "8BDkm6YosSEC",
        "outputId": "40c6914d-0ae7-47be-997b-21b145902ea3"
      },
      "source": [
        "coef_df.sort_values('vals').head(20)"
      ],
      "execution_count": 32,
      "outputs": [
        {
          "output_type": "execute_result",
          "data": {
            "text/html": [
              "<div>\n",
              "<style scoped>\n",
              "    .dataframe tbody tr th:only-of-type {\n",
              "        vertical-align: middle;\n",
              "    }\n",
              "\n",
              "    .dataframe tbody tr th {\n",
              "        vertical-align: top;\n",
              "    }\n",
              "\n",
              "    .dataframe thead th {\n",
              "        text-align: right;\n",
              "    }\n",
              "</style>\n",
              "<table border=\"1\" class=\"dataframe\">\n",
              "  <thead>\n",
              "    <tr style=\"text-align: right;\">\n",
              "      <th></th>\n",
              "      <th>coefs</th>\n",
              "      <th>vals</th>\n",
              "    </tr>\n",
              "  </thead>\n",
              "  <tbody>\n",
              "    <tr>\n",
              "      <th>1346</th>\n",
              "      <td>potus</td>\n",
              "      <td>-2.835593</td>\n",
              "    </tr>\n",
              "    <tr>\n",
              "      <th>1771</th>\n",
              "      <td>timkaine</td>\n",
              "      <td>-2.729889</td>\n",
              "    </tr>\n",
              "    <tr>\n",
              "      <th>195</th>\n",
              "      <td>berniesanders</td>\n",
              "      <td>-2.604799</td>\n",
              "    </tr>\n",
              "    <tr>\n",
              "      <th>925</th>\n",
              "      <td>joebiden</td>\n",
              "      <td>-2.443623</td>\n",
              "    </tr>\n",
              "    <tr>\n",
              "      <th>449</th>\n",
              "      <td>demsinphilly</td>\n",
              "      <td>-2.401845</td>\n",
              "    </tr>\n",
              "    <tr>\n",
              "      <th>1923</th>\n",
              "      <td>week</td>\n",
              "      <td>-2.263300</td>\n",
              "    </tr>\n",
              "    <tr>\n",
              "      <th>206</th>\n",
              "      <td>billclinton</td>\n",
              "      <td>-2.181595</td>\n",
              "    </tr>\n",
              "    <tr>\n",
              "      <th>1434</th>\n",
              "      <td>reality</td>\n",
              "      <td>-2.013156</td>\n",
              "    </tr>\n",
              "    <tr>\n",
              "      <th>412</th>\n",
              "      <td>dangerous</td>\n",
              "      <td>-1.944738</td>\n",
              "    </tr>\n",
              "    <tr>\n",
              "      <th>169</th>\n",
              "      <td>barack</td>\n",
              "      <td>-1.913908</td>\n",
              "    </tr>\n",
              "    <tr>\n",
              "      <th>435</th>\n",
              "      <td>defeat</td>\n",
              "      <td>-1.909980</td>\n",
              "    </tr>\n",
              "    <tr>\n",
              "      <th>809</th>\n",
              "      <td>hillary</td>\n",
              "      <td>-1.879271</td>\n",
              "    </tr>\n",
              "    <tr>\n",
              "      <th>1472</th>\n",
              "      <td>republicans</td>\n",
              "      <td>-1.809242</td>\n",
              "    </tr>\n",
              "    <tr>\n",
              "      <th>773</th>\n",
              "      <td>hate</td>\n",
              "      <td>-1.792760</td>\n",
              "    </tr>\n",
              "    <tr>\n",
              "      <th>650</th>\n",
              "      <td>flotus</td>\n",
              "      <td>-1.772491</td>\n",
              "    </tr>\n",
              "    <tr>\n",
              "      <th>1744</th>\n",
              "      <td>there</td>\n",
              "      <td>-1.759129</td>\n",
              "    </tr>\n",
              "    <tr>\n",
              "      <th>428</th>\n",
              "      <td>debt</td>\n",
              "      <td>-1.704567</td>\n",
              "    </tr>\n",
              "    <tr>\n",
              "      <th>1133</th>\n",
              "      <td>mom</td>\n",
              "      <td>-1.700534</td>\n",
              "    </tr>\n",
              "    <tr>\n",
              "      <th>752</th>\n",
              "      <td>gun</td>\n",
              "      <td>-1.669997</td>\n",
              "    </tr>\n",
              "    <tr>\n",
              "      <th>1370</th>\n",
              "      <td>prisoners</td>\n",
              "      <td>-1.638476</td>\n",
              "    </tr>\n",
              "  </tbody>\n",
              "</table>\n",
              "</div>"
            ],
            "text/plain": [
              "              coefs      vals\n",
              "1346          potus -2.835593\n",
              "1771       timkaine -2.729889\n",
              "195   berniesanders -2.604799\n",
              "925        joebiden -2.443623\n",
              "449    demsinphilly -2.401845\n",
              "1923           week -2.263300\n",
              "206     billclinton -2.181595\n",
              "1434        reality -2.013156\n",
              "412       dangerous -1.944738\n",
              "169          barack -1.913908\n",
              "435          defeat -1.909980\n",
              "809         hillary -1.879271\n",
              "1472    republicans -1.809242\n",
              "773            hate -1.792760\n",
              "650          flotus -1.772491\n",
              "1744          there -1.759129\n",
              "428            debt -1.704567\n",
              "1133            mom -1.700534\n",
              "752             gun -1.669997\n",
              "1370      prisoners -1.638476"
            ]
          },
          "metadata": {},
          "execution_count": 32
        }
      ]
    },
    {
      "cell_type": "code",
      "metadata": {
        "colab": {
          "base_uri": "https://localhost:8080/",
          "height": 669
        },
        "id": "JVY5z_0JsSED",
        "outputId": "447a439f-9e28-44da-fbf3-7d8421aeae17"
      },
      "source": [
        "coef_df.sort_values('vals', ascending=False).head(20)"
      ],
      "execution_count": 33,
      "outputs": [
        {
          "output_type": "execute_result",
          "data": {
            "text/html": [
              "<div>\n",
              "<style scoped>\n",
              "    .dataframe tbody tr th:only-of-type {\n",
              "        vertical-align: middle;\n",
              "    }\n",
              "\n",
              "    .dataframe tbody tr th {\n",
              "        vertical-align: top;\n",
              "    }\n",
              "\n",
              "    .dataframe thead th {\n",
              "        text-align: right;\n",
              "    }\n",
              "</style>\n",
              "<table border=\"1\" class=\"dataframe\">\n",
              "  <thead>\n",
              "    <tr style=\"text-align: right;\">\n",
              "      <th></th>\n",
              "      <th>coefs</th>\n",
              "      <th>vals</th>\n",
              "    </tr>\n",
              "  </thead>\n",
              "  <tbody>\n",
              "    <tr>\n",
              "      <th>1807</th>\n",
              "      <td>trump2016</td>\n",
              "      <td>4.035363</td>\n",
              "    </tr>\n",
              "    <tr>\n",
              "      <th>403</th>\n",
              "      <td>crooked</td>\n",
              "      <td>4.004931</td>\n",
              "    </tr>\n",
              "    <tr>\n",
              "      <th>1064</th>\n",
              "      <td>makeamericagreatagain</td>\n",
              "      <td>3.885513</td>\n",
              "    </tr>\n",
              "    <tr>\n",
              "      <th>407</th>\n",
              "      <td>cruz</td>\n",
              "      <td>3.225321</td>\n",
              "    </tr>\n",
              "    <tr>\n",
              "      <th>1808</th>\n",
              "      <td>trumppence16</td>\n",
              "      <td>3.043565</td>\n",
              "    </tr>\n",
              "    <tr>\n",
              "      <th>1056</th>\n",
              "      <td>maga</td>\n",
              "      <td>2.793667</td>\n",
              "    </tr>\n",
              "    <tr>\n",
              "      <th>404</th>\n",
              "      <td>crookedhillary</td>\n",
              "      <td>2.706845</td>\n",
              "    </tr>\n",
              "    <tr>\n",
              "      <th>1065</th>\n",
              "      <td>makeamericasafeagain</td>\n",
              "      <td>2.658937</td>\n",
              "    </tr>\n",
              "    <tr>\n",
              "      <th>732</th>\n",
              "      <td>gopdebate</td>\n",
              "      <td>2.528460</td>\n",
              "    </tr>\n",
              "    <tr>\n",
              "      <th>864</th>\n",
              "      <td>imwithyou</td>\n",
              "      <td>2.524807</td>\n",
              "    </tr>\n",
              "    <tr>\n",
              "      <th>1734</th>\n",
              "      <td>thank</td>\n",
              "      <td>2.481687</td>\n",
              "    </tr>\n",
              "    <tr>\n",
              "      <th>329</th>\n",
              "      <td>clinton</td>\n",
              "      <td>2.471805</td>\n",
              "    </tr>\n",
              "    <tr>\n",
              "      <th>100</th>\n",
              "      <td>americafirst</td>\n",
              "      <td>2.444226</td>\n",
              "    </tr>\n",
              "    <tr>\n",
              "      <th>1890</th>\n",
              "      <td>votetrump</td>\n",
              "      <td>2.387802</td>\n",
              "    </tr>\n",
              "    <tr>\n",
              "      <th>673</th>\n",
              "      <td>foxnews</td>\n",
              "      <td>2.251902</td>\n",
              "    </tr>\n",
              "    <tr>\n",
              "      <th>1874</th>\n",
              "      <td>video</td>\n",
              "      <td>2.232925</td>\n",
              "    </tr>\n",
              "    <tr>\n",
              "      <th>1090</th>\n",
              "      <td>media</td>\n",
              "      <td>2.215062</td>\n",
              "    </tr>\n",
              "    <tr>\n",
              "      <th>810</th>\n",
              "      <td>hillaryclinton</td>\n",
              "      <td>2.174445</td>\n",
              "    </tr>\n",
              "    <tr>\n",
              "      <th>1096</th>\n",
              "      <td>megynkelly</td>\n",
              "      <td>2.093668</td>\n",
              "    </tr>\n",
              "    <tr>\n",
              "      <th>541</th>\n",
              "      <td>emails</td>\n",
              "      <td>2.070631</td>\n",
              "    </tr>\n",
              "  </tbody>\n",
              "</table>\n",
              "</div>"
            ],
            "text/plain": [
              "                      coefs      vals\n",
              "1807              trump2016  4.035363\n",
              "403                 crooked  4.004931\n",
              "1064  makeamericagreatagain  3.885513\n",
              "407                    cruz  3.225321\n",
              "1808           trumppence16  3.043565\n",
              "1056                   maga  2.793667\n",
              "404          crookedhillary  2.706845\n",
              "1065   makeamericasafeagain  2.658937\n",
              "732               gopdebate  2.528460\n",
              "864               imwithyou  2.524807\n",
              "1734                  thank  2.481687\n",
              "329                 clinton  2.471805\n",
              "100            americafirst  2.444226\n",
              "1890              votetrump  2.387802\n",
              "673                 foxnews  2.251902\n",
              "1874                  video  2.232925\n",
              "1090                  media  2.215062\n",
              "810          hillaryclinton  2.174445\n",
              "1096             megynkelly  2.093668\n",
              "541                  emails  2.070631"
            ]
          },
          "metadata": {},
          "execution_count": 33
        }
      ]
    },
    {
      "cell_type": "markdown",
      "metadata": {
        "id": "7Jr8z4UFsSED"
      },
      "source": [
        "# Bonus: Using Pipelines to make predictions on novel text\n",
        "\n",
        "Because a pipeline can wrap up count-vectorizing as well as the modeling step, we can use pipelines to make predictions about what a piece of text [sounds like](https://iwl.me/).\n",
        "\n",
        "- You may want to use `%%capture` or otherwise suppress warnings."
      ]
    },
    {
      "cell_type": "code",
      "metadata": {
        "id": "1x7xfCFgsSED"
      },
      "source": [
        "%%capture\n",
        "pipe = Pipeline([\n",
        "    ('cv', CountVectorizer(min_df=3, max_features=2000)),\n",
        "    ('lr', LogisticRegressionCV())\n",
        "])\n",
        "\n",
        "pipe.fit(X_train, y_train)\n",
        "pipe.score(X_train, y_train), pipe.score(X_test, y_test)"
      ],
      "execution_count": 34,
      "outputs": []
    },
    {
      "cell_type": "code",
      "metadata": {
        "colab": {
          "base_uri": "https://localhost:8080/"
        },
        "id": "VBTcAAE5sSEE",
        "outputId": "76a9d309-718f-4a7d-fa3f-141fa1d40aef"
      },
      "source": [
        "pipe.predict(['maga'])"
      ],
      "execution_count": 35,
      "outputs": [
        {
          "output_type": "execute_result",
          "data": {
            "text/plain": [
              "array([1])"
            ]
          },
          "metadata": {},
          "execution_count": 35
        }
      ]
    },
    {
      "cell_type": "code",
      "metadata": {
        "colab": {
          "base_uri": "https://localhost:8080/"
        },
        "id": "RZiiKlUdsSEE",
        "outputId": "e8d06e39-305b-482b-ab2d-8b850c9fc281"
      },
      "source": [
        "pipe.predict(['timkaine'])"
      ],
      "execution_count": 36,
      "outputs": [
        {
          "output_type": "execute_result",
          "data": {
            "text/plain": [
              "array([0])"
            ]
          },
          "metadata": {},
          "execution_count": 36
        }
      ]
    },
    {
      "cell_type": "code",
      "metadata": {
        "colab": {
          "base_uri": "https://localhost:8080/"
        },
        "id": "FqI0fWN8sSEG",
        "outputId": "431ab4a0-a5ed-439a-c270-b7c51c8859b1"
      },
      "source": [
        "pipe.predict(['Bonus: Using Pipelines to make predictions on novel text'])"
      ],
      "execution_count": 37,
      "outputs": [
        {
          "output_type": "execute_result",
          "data": {
            "text/plain": [
              "array([1])"
            ]
          },
          "metadata": {},
          "execution_count": 37
        }
      ]
    }
  ]
}